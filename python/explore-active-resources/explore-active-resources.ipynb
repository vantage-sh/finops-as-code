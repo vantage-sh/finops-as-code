{
 "cells": [
  {
   "cell_type": "markdown",
   "id": "96576750-dcc2-4b3b-acaa-ed36f8a04395",
   "metadata": {},
   "source": [
    "# Exploring Data from Active Resources \n",
    "In this notebook, you'll use the `/resources` endpoint of the Vantage API to retrieve and analyze your _active resources_. Active resources are any type of provider-based resource, such as an Amazon EC2 instance, that is currently accruing costs. This analysis will look at costs for resources across provider, region, and resource type.\n",
    "\n",
    "## Prerequisites\n",
    "Ensure you have the following libraries installed below, such as `pandas` ([documentation](https://pandas.pydata.org/docs/index.html)), `matplotlib` ([documentation](https://matplotlib.org/)), and `seaborn` ([documentation](https://seaborn.pydata.org/)). "
   ]
  },
  {
   "cell_type": "code",
   "execution_count": null,
   "id": "ab55575c-5e88-4635-90f2-37a624712f38",
   "metadata": {},
   "outputs": [],
   "source": [
    "import requests\n",
    "import pandas as pd\n",
    "import matplotlib.pyplot as plt\n",
    "import seaborn as sns\n",
    "import os\n",
    "import time"
   ]
  },
  {
   "cell_type": "markdown",
   "id": "9dbf6226-e549-4579-bef3-a8dd6d7de89b",
   "metadata": {},
   "source": [
    "## `/resources` API Endpoint\n",
    "The `/resources` [endpoint](https://vantage.readme.io/reference/getreportresources) returns a JSON array of all resources within a specific [Resource Report](https://docs.vantage.sh/active_resources) or workspace. The `resource_report_token` variable represents the unique token for a Resource Report in Vantage. For this lab, use the **All Active Resources** report that's automatically provided in your Vantage account. \n",
    "1. Navigate to the [Resource Reports page](https://console.vantage.sh/resources) in Vantage.\n",
    "2. Select the **All Active Resources** report.\n",
    "3. In the URL, copy the report token (e.g., in `https://console.vantage.sh/resources/prvdr_rsrc_rprt_a12f345345aad1ac`, copy `prvdr_rsrc_rprt_a12f345345aad1ac`).\n",
    "4. Replace the `<TOKEN>` placeholder below with the token you just copied."
   ]
  },
  {
   "cell_type": "code",
   "execution_count": null,
   "id": "cc91b5b0-30ca-44b9-b454-4e22925731a4",
   "metadata": {},
   "outputs": [],
   "source": [
    "url = \"https://api.vantage.sh/v2/resources\"\n",
    "params = {\n",
    "    \"resource_report_token\": \"<TOKEN>\", \n",
    "    \"include_cost\": \"true\"\n",
    "}"
   ]
  },
  {
   "cell_type": "markdown",
   "id": "2e97255f-e170-4fc3-962d-c5315f0ec731",
   "metadata": {},
   "source": [
    "### Vantage API Token\n",
    "Create a [Vantage API token](https://vantage.readme.io/reference/authentication). Export it as the `VANTAGE_API_TOKEN` environment variable within this session."
   ]
  },
  {
   "cell_type": "code",
   "execution_count": null,
   "id": "c7ba3b0a-473c-4b21-94de-7959b6abd468",
   "metadata": {},
   "outputs": [],
   "source": [
    "vantage_token = os.getenv(\"VANTAGE_API_TOKEN\")\n",
    "if vantage_token is None:\n",
    "    raise ValueError(\"Set VANTAGE_API_TOKEN as an environment variable.\")\n",
    "\n",
    "headers = {\n",
    "    \"accept\": \"application/json\",\n",
    "    \"authorization\": f\"Bearer {vantage_token}\"\n",
    "}"
   ]
  },
  {
   "cell_type": "markdown",
   "id": "664ee6ac-6a10-4ccb-86c9-c7a844b0cc3c",
   "metadata": {},
   "source": [
    "## API Call and Pagination\n",
    "The `/resources` API response is paginated, with about 20 resource records returned per page. The response provides the following `links` for pagination:\n",
    "\n",
    "```\n",
    "{\n",
    "  \"links\": {\n",
    "    \"self\": \"https://api.vantage.sh/v2/resources?resource_report_token=prvdr_rsrc_rprt_a12f345345aad1ac_cost=true\",\n",
    "    \"first\": \"https://api.vantage.sh/v2/resources?resource_report_token=prvdr_rsrc_rprt_a12f345345aad1ac&include_cost=true&page=1\",\n",
    "    \"next\": \"https://api.vantage.sh/v2/resources?resource_report_token=prvdr_rsrc_rprt_a12f345345aad1ac&include_cost=true&page=2\",\n",
    "    \"last\": \"https://api.vantage.sh/v2/resources?resource_report_token=prvdr_rsrc_rprt_a12f345345aad1ac&include_cost=true&page=100\",\n",
    "    \"prev\": null\n",
    "  },\n",
    "```\n",
    "\n",
    "The API also has a rate limit of 20 requests per minute. The loop below extracts all data and accounts for any [rate-limiting](https://vantage.readme.io/reference/rate-limiting) to add a delay each minute between requests."
   ]
  },
  {
   "cell_type": "code",
   "execution_count": null,
   "id": "0ffed228-e8c0-495b-86e3-0586524520fc",
   "metadata": {},
   "outputs": [],
   "source": [
    "# Create a list to collect the data across all pages\n",
    "all_data = []\n",
    "page = 1\n",
    "\n",
    "# Loops through pagination to retrieve all pages\n",
    "while url:\n",
    "    response = requests.get(url, headers=headers, params=params)\n",
    "    if response.status_code != 200:\n",
    "        print(f\"Error: {response.status_code}\")\n",
    "        break\n",
    "    \n",
    "    data = response.json()\n",
    "    all_data.extend(data[\"resources\"])\n",
    "    \n",
    "    url = data[\"links\"].get(\"next\")\n",
    "    page += 1\n",
    "\n",
    "    # Handles rate-limiting, as the API is limited to 20 requests per minute\n",
    "    if response.headers.get(\"X-RateLimit-Remaining\") == \"0\":\n",
    "        reset_time = int(response.headers.get(\"X-RateLimit-Reset\", 60))\n",
    "        print(f\"Rate limit hit. Sleeping for {reset_time} seconds...\")\n",
    "        time.sleep(reset_time)\n",
    "    else:\n",
    "        time.sleep(1)  "
   ]
  },
  {
   "cell_type": "markdown",
   "id": "c64dd026-1e28-41ca-a6cd-3430830f19c2",
   "metadata": {},
   "source": [
    "## Store Data in `pandas` Dataframe\n",
    "The API response includes a number of fields. Each unique token can have multiple records, as cost is determined by the resource's `category`. For example, the following resource, with its unique `token`, has one record for `Data Transfer` costs and another for `API Request` costs:\n",
    "\n",
    "```\n",
    "  \"resources\": [\n",
    "    {\n",
    "      \"token\": \"prvdr_rsrc_1ba2e3aa45678f9f\",\n",
    "      \"uuid\": \"arn:aws:kms:us-east-1:12345678901:key/1234ab0d-56a7-89a3-45ab-89ab45ab1e34\",\n",
    "      \"type\": \"aws_cloudfront_distribution\",\n",
    "      \"label\": \"1234ab0d-56a7-89a3-45ab-89ab45ab1e34\",\n",
    "      \"metadata\": null,\n",
    "      \"account_id\": \"12345678901\",\n",
    "      \"billing_account_id\": \"12345678901\",\n",
    "      \"provider\": \"aws\",\n",
    "      \"region\": \"us-east-1\",\n",
    "      \"costs\": [\n",
    "        {\n",
    "          \"category\": \"Data Transfer\",\n",
    "          \"amount\": \"0.0000899936\"\n",
    "        }\n",
    "      ],\n",
    "      \"created_at\": \"2023-05-22T19:43:33.264Z\"\n",
    "    },\n",
    "    {\n",
    "      \"token\": \"prvdr_rsrc_1ba2e3aa45678f9f\",\n",
    "      \"uuid\": \"arn:aws:kms:us-east-1:12345678901:key/1234ab0d-56a7-89a3-45ab-89ab45ab1e34\",\n",
    "      \"type\": \"aws_cloudfront_distribution\",\n",
    "      \"label\": \"1234ab0d-56a7-89a3-45ab-89ab45ab1e34\",\n",
    "      \"metadata\": null,\n",
    "      \"account_id\": \"12345678901\",\n",
    "      \"billing_account_id\": \"12345678901\",\n",
    "      \"provider\": \"aws\",\n",
    "      \"region\": \"us-east-1\",\n",
    "      \"costs\": [\n",
    "        {\n",
    "          \"category\": \"API Request\",\n",
    "          \"amount\": \"0.0000987564\"\n",
    "        }\n",
    "      ],\n",
    "      \"created_at\": \"2023-05-23T19:43:33.264Z\"\n",
    "    },\n",
    "    ...\n",
    "```\n",
    "\n",
    "The `pandas` dataframe below pulls in the `'uuid', 'type', 'provider', 'region', 'token', 'label', 'account_id'` for each resource as a record. In addition, the `amount` and `category` parameters are nested under `costs`. The `record_path` accounts for this. The `record_prefix` adds `cost_` in front of each nested column name for when it's referenced later."
   ]
  },
  {
   "cell_type": "code",
   "execution_count": null,
   "id": "95a62149-af78-4c29-8fb9-eeeeb837ff71",
   "metadata": {},
   "outputs": [],
   "source": [
    "df = pd.json_normalize(\n",
    "    all_data, \n",
    "    record_path='costs', \n",
    "    meta=['uuid', 'type', 'provider', 'region', 'token', 'label', 'account_id'],\n",
    "    record_prefix='cost_'\n",
    ")"
   ]
  },
  {
   "cell_type": "markdown",
   "id": "f2af4632-fb5f-4a8b-ac7c-c32985b3fe4a",
   "metadata": {},
   "source": [
    "Convert `cost_amount` to a `float` so that you can accurately calculate total costs per resource type. The `total_cost_df` groups all tokens together to give a total cost per resource token."
   ]
  },
  {
   "cell_type": "code",
   "execution_count": null,
   "id": "2769a110-09c4-4039-bbc0-d326c2e4169d",
   "metadata": {},
   "outputs": [],
   "source": [
    "df['cost_amount'] = df['cost_amount'].astype(float)\n",
    "total_cost_df = df.groupby('token')['cost_amount'].sum().reset_index()\n",
    "total_cost_df = total_cost_df.sort_values(by='cost_amount', ascending=False)\n",
    "total_cost_df.head()"
   ]
  },
  {
   "cell_type": "markdown",
   "id": "f56bb5da-a033-4a09-b9eb-3f8ef4448464",
   "metadata": {},
   "source": [
    "## Exploring High-Costing Resources\n",
    "Now that you have the data, you can explore different visualizations using `matplotlib`. This visualization looks at the top cost-contributing resource types across all providers. A new dataframe groups by `type` and sums the `cost_amount` for each `type`."
   ]
  },
  {
   "cell_type": "code",
   "execution_count": null,
   "id": "4c31d6d1-c4a8-4cb6-bde6-8f482cf14de2",
   "metadata": {},
   "outputs": [],
   "source": [
    "type_cost_df = df.groupby('type')['cost_amount'].sum().reset_index()\n",
    "# create table for visual\n",
    "top_types = type_cost_df.sort_values(by='cost_amount', ascending=False).head(5)\n",
    "print(top_types)\n",
    "\n",
    "# Plot top resource types by cost\n",
    "plt.figure(figsize=(10, 6))\n",
    "plt.bar(top_types['type'], top_types['cost_amount'], color='coral')\n",
    "plt.xlabel('Resource Type')\n",
    "plt.ylabel('Total Cost')\n",
    "plt.title('Top 5 Cost-Contributing Resource Types')\n",
    "plt.xticks(rotation=45)\n",
    "plt.show()"
   ]
  },
  {
   "cell_type": "markdown",
   "id": "285c99c1-dd76-4817-9a84-00823f8b8df0",
   "metadata": {},
   "source": [
    "### Filter to a Specific Provider\n",
    "If you want to see top-costing resources for only one provider (e.g., `azure` or `aws`), you can filter the results from the dataframe."
   ]
  },
  {
   "cell_type": "code",
   "execution_count": null,
   "id": "cf2df783-0cc2-4d25-99ba-16f901b8a901",
   "metadata": {},
   "outputs": [],
   "source": [
    "provider_filtered_df = df[df['provider'].str.lower() == 'azure']\n",
    "type_cost_df = provider_filtered_df.groupby('type')['cost_amount'].sum().reset_index()\n",
    "# create table for visual\n",
    "top_types = type_cost_df.sort_values(by='cost_amount', ascending=False).head(5)\n",
    "print(top_types)\n",
    "\n",
    "# Plot top resource types by cost\n",
    "plt.figure(figsize=(10, 6))\n",
    "plt.bar(top_types['type'], top_types['cost_amount'], color='coral')\n",
    "plt.xlabel('Resource Type')\n",
    "plt.ylabel('Total Cost')\n",
    "plt.title('Top 5 Cost-Contributing Resource Types')\n",
    "plt.xticks(rotation=45)\n",
    "plt.show()"
   ]
  },
  {
   "cell_type": "markdown",
   "id": "abfde932-6eb5-4541-b4fd-a702d8ee3006",
   "metadata": {},
   "source": [
    "## Exploring Top-Costing Regions\n",
    "For this visualization, you can see costs across region for all providers. You can also filter to one specific provider, as done in the visualization above."
   ]
  },
  {
   "cell_type": "code",
   "execution_count": null,
   "id": "5211c8ef-75b1-4dc1-ac41-3c91ed9c5aa0",
   "metadata": {},
   "outputs": [],
   "source": [
    "region_cost_df = df.groupby('region')['cost_amount'].sum().reset_index()\n",
    "# create table for visual\n",
    "top_regions = region_cost_df.sort_values(by='cost_amount', ascending=False).head(5)\n",
    "print(top_regions)\n",
    "\n",
    "# Plot total cost by region\n",
    "plt.figure(figsize=(10, 6))\n",
    "plt.bar(region_cost_df['region'], region_cost_df['cost_amount'], color='skyblue')\n",
    "plt.xlabel('Region')\n",
    "plt.ylabel('Total Cost')\n",
    "plt.title('Total Cost by Region')\n",
    "plt.xticks(rotation=45)\n",
    "plt.show()\n"
   ]
  },
  {
   "cell_type": "markdown",
   "id": "1dd2eb39-379b-4e0b-a7ee-98413728073a",
   "metadata": {},
   "source": [
    "## Exploring Heatmap of Provider and Resource Types\n",
    "This heatmap uses `matplotlib` and `seaborn` and creates a pivot table of provider and resource type and includes the top 10 highest-costing resource types across the dataset. Darker cells represent greater costs for that provider/resource type."
   ]
  },
  {
   "cell_type": "code",
   "execution_count": null,
   "id": "e3f9d71b-731f-4faa-8e99-557a34bb9b94",
   "metadata": {},
   "outputs": [],
   "source": [
    "heatmap_data = df.pivot_table(values='cost_amount', index='provider', columns='type', aggfunc='sum').fillna(0)\n",
    "\n",
    "# Keep only the top 10 highest-cost types for readability\n",
    "top_types = df.groupby('type')['cost_amount'].sum().nlargest(10).index\n",
    "heatmap_data = heatmap_data[top_types]\n",
    "\n",
    "plt.figure(figsize=(16, 10))\n",
    "sns.heatmap(heatmap_data, cmap='YlGnBu', annot=True, fmt=\".4f\", cbar_kws={'label': 'Total Cost'})\n",
    "plt.xlabel('Type')\n",
    "plt.ylabel('Provider')\n",
    "plt.xticks(rotation=45, ha='right')  # Rotate labels\n",
    "plt.title('Total Cost Distribution by Provider and Top Resource Types')\n",
    "plt.show()"
   ]
  },
  {
   "cell_type": "markdown",
   "id": "a2df48f6-e57a-4f91-aca4-db79798a9226",
   "metadata": {},
   "source": [
    "### Filtered Provider Heatmap\n",
    "If your data skews heavily toward one provider (e.g., AWS), you could filter out a particular provider and view the heatmap for all other providers. Update the criteria in the `filtered_df` to look at specific providers."
   ]
  },
  {
   "cell_type": "code",
   "execution_count": null,
   "id": "442ba7d2-7b22-4d39-83eb-445037bbabf8",
   "metadata": {},
   "outputs": [],
   "source": [
    "# Filter data to include all providers except 'aws'\n",
    "filtered_df = df[df['provider'].str.lower() != 'aws']\n",
    "\n",
    "heatmap_data = filtered_df.pivot_table(values='cost_amount', index='provider', columns='type', aggfunc='sum').fillna(0)\n",
    "\n",
    "# Keep only the top 10 highest-cost types across the filtered data for readability\n",
    "top_types = filtered_df.groupby('type')['cost_amount'].sum().nlargest(10).index\n",
    "heatmap_data = heatmap_data[top_types]\n",
    "\n",
    "plt.figure(figsize=(16, 10))\n",
    "sns.heatmap(heatmap_data, cmap='YlGnBu', annot=True, fmt=\".4f\", cbar_kws={'label': 'Total Cost'})\n",
    "plt.xlabel('Type')\n",
    "plt.ylabel('Provider')\n",
    "plt.xticks(rotation=45, ha='right')  # Rotate labels\n",
    "plt.title('Total Cost Distribution by Provider (Excluding AWS) and Top Resource Types')\n",
    "plt.show()"
   ]
  },
  {
   "cell_type": "markdown",
   "id": "12654f00-bde5-4814-bedf-55b0bf138428",
   "metadata": {},
   "source": [
    "## Next Steps\n",
    "Your original dataframe also includes other parameters, like `category` and `account_id`. Consider creating other analyses to look at resource costs across these parameters."
   ]
  }
 ],
 "metadata": {
  "kernelspec": {
   "display_name": "Python 3 (ipykernel)",
   "language": "python",
   "name": "python3"
  },
  "language_info": {
   "codemirror_mode": {
    "name": "ipython",
    "version": 3
   },
   "file_extension": ".py",
   "mimetype": "text/x-python",
   "name": "python",
   "nbconvert_exporter": "python",
   "pygments_lexer": "ipython3",
   "version": "3.11.5"
  }
 },
 "nbformat": 4,
 "nbformat_minor": 5
}
